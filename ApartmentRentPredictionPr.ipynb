{
 "cells": [
  {
   "cell_type": "markdown",
   "id": "0a5407af-67d9-48e6-8360-094815977f23",
   "metadata": {},
   "source": [
    "# **Install**"
   ]
  },
  {
   "cell_type": "code",
   "execution_count": 7,
   "id": "f83d2c1a-3bd0-4c28-93d1-60f9b8de0b6b",
   "metadata": {},
   "outputs": [
    {
     "name": "stdout",
     "output_type": "stream",
     "text": [
      "Collecting numpy==1.26.0\n",
      "  Downloading numpy-1.26.0-cp311-cp311-macosx_11_0_arm64.whl.metadata (99 kB)\n",
      "\u001b[2K     \u001b[90m━━━━━━━━━━━━━━━━━━━━━━━━━━━━━━━━━━━━━━━\u001b[0m \u001b[32m99.7/99.7 kB\u001b[0m \u001b[31m972.6 kB/s\u001b[0m eta \u001b[36m0:00:00\u001b[0ma \u001b[36m0:00:01\u001b[0m\n",
      "\u001b[?25hDownloading numpy-1.26.0-cp311-cp311-macosx_11_0_arm64.whl (14.0 MB)\n",
      "\u001b[2K   \u001b[90m━━━━━━━━━━━━━━━━━━━━━━━━━━━━━━━━━━━━━━━━\u001b[0m \u001b[32m14.0/14.0 MB\u001b[0m \u001b[31m2.9 MB/s\u001b[0m eta \u001b[36m0:00:00\u001b[0ma \u001b[36m0:00:01\u001b[0m\n",
      "\u001b[?25hInstalling collected packages: numpy\n",
      "Successfully installed numpy-1.26.0\n",
      "Collecting pandas==2.2.1\n",
      "  Downloading pandas-2.2.1-cp311-cp311-macosx_11_0_arm64.whl.metadata (19 kB)\n",
      "Requirement already satisfied: numpy<2,>=1.23.2 in /Users/mohammedeljazar/miniconda3/lib/python3.11/site-packages (from pandas==2.2.1) (1.26.0)\n",
      "Requirement already satisfied: python-dateutil>=2.8.2 in /Users/mohammedeljazar/miniconda3/lib/python3.11/site-packages (from pandas==2.2.1) (2.9.0.post0)\n",
      "Collecting pytz>=2020.1 (from pandas==2.2.1)\n",
      "  Downloading pytz-2024.1-py2.py3-none-any.whl.metadata (22 kB)\n",
      "Collecting tzdata>=2022.7 (from pandas==2.2.1)\n",
      "  Downloading tzdata-2024.1-py2.py3-none-any.whl.metadata (1.4 kB)\n",
      "Requirement already satisfied: six>=1.5 in /Users/mohammedeljazar/miniconda3/lib/python3.11/site-packages (from python-dateutil>=2.8.2->pandas==2.2.1) (1.16.0)\n",
      "Downloading pandas-2.2.1-cp311-cp311-macosx_11_0_arm64.whl (11.3 MB)\n",
      "\u001b[2K   \u001b[90m━━━━━━━━━━━━━━━━━━━━━━━━━━━━━━━━━━━━━━━━\u001b[0m \u001b[32m11.3/11.3 MB\u001b[0m \u001b[31m2.8 MB/s\u001b[0m eta \u001b[36m0:00:00\u001b[0m00:01\u001b[0m00:01\u001b[0m\n",
      "\u001b[?25hDownloading pytz-2024.1-py2.py3-none-any.whl (505 kB)\n",
      "\u001b[2K   \u001b[90m━━━━━━━━━━━━━━━━━━━━━━━━━━━━━━━━━━━━━━━━\u001b[0m \u001b[32m505.5/505.5 kB\u001b[0m \u001b[31m3.2 MB/s\u001b[0m eta \u001b[36m0:00:00\u001b[0m00:01\u001b[0m00:01\u001b[0m\n",
      "\u001b[?25hDownloading tzdata-2024.1-py2.py3-none-any.whl (345 kB)\n",
      "\u001b[2K   \u001b[90m━━━━━━━━━━━━━━━━━━━━━━━━━━━━━━━━━━━━━━━━\u001b[0m \u001b[32m345.4/345.4 kB\u001b[0m \u001b[31m3.3 MB/s\u001b[0m eta \u001b[36m0:00:00\u001b[0ma \u001b[36m0:00:01\u001b[0m\n",
      "\u001b[?25hInstalling collected packages: pytz, tzdata, pandas\n",
      "Successfully installed pandas-2.2.1 pytz-2024.1 tzdata-2024.1\n",
      "Collecting seaborn==0.13.2\n",
      "  Downloading seaborn-0.13.2-py3-none-any.whl.metadata (5.4 kB)\n",
      "Requirement already satisfied: numpy!=1.24.0,>=1.20 in /Users/mohammedeljazar/miniconda3/lib/python3.11/site-packages (from seaborn==0.13.2) (1.26.0)\n",
      "Requirement already satisfied: pandas>=1.2 in /Users/mohammedeljazar/miniconda3/lib/python3.11/site-packages (from seaborn==0.13.2) (2.2.1)\n",
      "Collecting matplotlib!=3.6.1,>=3.4 (from seaborn==0.13.2)\n",
      "  Downloading matplotlib-3.8.4-cp311-cp311-macosx_11_0_arm64.whl.metadata (5.8 kB)\n",
      "Collecting contourpy>=1.0.1 (from matplotlib!=3.6.1,>=3.4->seaborn==0.13.2)\n",
      "  Downloading contourpy-1.2.1-cp311-cp311-macosx_11_0_arm64.whl.metadata (5.8 kB)\n",
      "Collecting cycler>=0.10 (from matplotlib!=3.6.1,>=3.4->seaborn==0.13.2)\n",
      "  Downloading cycler-0.12.1-py3-none-any.whl.metadata (3.8 kB)\n",
      "Collecting fonttools>=4.22.0 (from matplotlib!=3.6.1,>=3.4->seaborn==0.13.2)\n",
      "  Downloading fonttools-4.51.0-cp311-cp311-macosx_10_9_universal2.whl.metadata (159 kB)\n",
      "\u001b[2K     \u001b[90m━━━━━━━━━━━━━━━━━━━━━━━━━━━━━━━━━━━━━\u001b[0m \u001b[32m159.5/159.5 kB\u001b[0m \u001b[31m981.0 kB/s\u001b[0m eta \u001b[36m0:00:00\u001b[0ma \u001b[36m0:00:01\u001b[0m\n",
      "\u001b[?25hCollecting kiwisolver>=1.3.1 (from matplotlib!=3.6.1,>=3.4->seaborn==0.13.2)\n",
      "  Downloading kiwisolver-1.4.5-cp311-cp311-macosx_11_0_arm64.whl.metadata (6.4 kB)\n",
      "Requirement already satisfied: packaging>=20.0 in /Users/mohammedeljazar/miniconda3/lib/python3.11/site-packages (from matplotlib!=3.6.1,>=3.4->seaborn==0.13.2) (23.1)\n",
      "Collecting pillow>=8 (from matplotlib!=3.6.1,>=3.4->seaborn==0.13.2)\n",
      "  Downloading pillow-10.3.0-cp311-cp311-macosx_11_0_arm64.whl.metadata (9.2 kB)\n",
      "Collecting pyparsing>=2.3.1 (from matplotlib!=3.6.1,>=3.4->seaborn==0.13.2)\n",
      "  Downloading pyparsing-3.1.2-py3-none-any.whl.metadata (5.1 kB)\n",
      "Requirement already satisfied: python-dateutil>=2.7 in /Users/mohammedeljazar/miniconda3/lib/python3.11/site-packages (from matplotlib!=3.6.1,>=3.4->seaborn==0.13.2) (2.9.0.post0)\n",
      "Requirement already satisfied: pytz>=2020.1 in /Users/mohammedeljazar/miniconda3/lib/python3.11/site-packages (from pandas>=1.2->seaborn==0.13.2) (2024.1)\n",
      "Requirement already satisfied: tzdata>=2022.7 in /Users/mohammedeljazar/miniconda3/lib/python3.11/site-packages (from pandas>=1.2->seaborn==0.13.2) (2024.1)\n",
      "Requirement already satisfied: six>=1.5 in /Users/mohammedeljazar/miniconda3/lib/python3.11/site-packages (from python-dateutil>=2.7->matplotlib!=3.6.1,>=3.4->seaborn==0.13.2) (1.16.0)\n",
      "Downloading seaborn-0.13.2-py3-none-any.whl (294 kB)\n",
      "\u001b[2K   \u001b[90m━━━━━━━━━━━━━━━━━━━━━━━━━━━━━━━━━━━━━━━━\u001b[0m \u001b[32m294.9/294.9 kB\u001b[0m \u001b[31m1.4 MB/s\u001b[0m eta \u001b[36m0:00:00\u001b[0ma \u001b[36m0:00:01\u001b[0m\n",
      "\u001b[?25hDownloading matplotlib-3.8.4-cp311-cp311-macosx_11_0_arm64.whl (7.5 MB)\n",
      "\u001b[2K   \u001b[90m━━━━━━━━━━━━━━━━━━━━━━━━━━━━━━━━━━━━━━━━\u001b[0m \u001b[32m7.5/7.5 MB\u001b[0m \u001b[31m1.7 MB/s\u001b[0m eta \u001b[36m0:00:00\u001b[0m00:01\u001b[0m00:01\u001b[0m\n",
      "\u001b[?25hDownloading contourpy-1.2.1-cp311-cp311-macosx_11_0_arm64.whl (245 kB)\n",
      "\u001b[2K   \u001b[90m━━━━━━━━━━━━━━━━━━━━━━━━━━━━━━━━━━━━━━━━\u001b[0m \u001b[32m245.9/245.9 kB\u001b[0m \u001b[31m2.8 MB/s\u001b[0m eta \u001b[36m0:00:00\u001b[0m00:01\u001b[0m00:01\u001b[0m\n",
      "\u001b[?25hDownloading cycler-0.12.1-py3-none-any.whl (8.3 kB)\n",
      "Downloading fonttools-4.51.0-cp311-cp311-macosx_10_9_universal2.whl (2.8 MB)\n",
      "\u001b[2K   \u001b[90m━━━━━━━━━━━━━━━━━━━━━━━━━━━━━━━━━━━━━━━━\u001b[0m \u001b[32m2.8/2.8 MB\u001b[0m \u001b[31m3.0 MB/s\u001b[0m eta \u001b[36m0:00:00\u001b[0m00:01\u001b[0m00:01\u001b[0m\n",
      "\u001b[?25hDownloading kiwisolver-1.4.5-cp311-cp311-macosx_11_0_arm64.whl (66 kB)\n",
      "\u001b[2K   \u001b[90m━━━━━━━━━━━━━━━━━━━━━━━━━━━━━━━━━━━━━━━━\u001b[0m \u001b[32m66.2/66.2 kB\u001b[0m \u001b[31m2.8 MB/s\u001b[0m eta \u001b[36m0:00:00\u001b[0m\n",
      "\u001b[?25hDownloading pillow-10.3.0-cp311-cp311-macosx_11_0_arm64.whl (3.4 MB)\n",
      "\u001b[2K   \u001b[90m━━━━━━━━━━━━━━━━━━━━━━━━━━━━━━━━━━━━━━━━\u001b[0m \u001b[32m3.4/3.4 MB\u001b[0m \u001b[31m3.0 MB/s\u001b[0m eta \u001b[36m0:00:00\u001b[0m00:01\u001b[0m00:01\u001b[0m\n",
      "\u001b[?25hDownloading pyparsing-3.1.2-py3-none-any.whl (103 kB)\n",
      "\u001b[2K   \u001b[90m━━━━━━━━━━━━━━━━━━━━━━━━━━━━━━━━━━━━━━━━\u001b[0m \u001b[32m103.2/103.2 kB\u001b[0m \u001b[31m3.5 MB/s\u001b[0m eta \u001b[36m0:00:00\u001b[0m\n",
      "\u001b[?25hInstalling collected packages: pyparsing, pillow, kiwisolver, fonttools, cycler, contourpy, matplotlib, seaborn\n",
      "Successfully installed contourpy-1.2.1 cycler-0.12.1 fonttools-4.51.0 kiwisolver-1.4.5 matplotlib-3.8.4 pillow-10.3.0 pyparsing-3.1.2 seaborn-0.13.2\n",
      "Collecting matplotlib==3.8.3\n",
      "  Downloading matplotlib-3.8.3-cp311-cp311-macosx_11_0_arm64.whl.metadata (5.8 kB)\n",
      "Requirement already satisfied: contourpy>=1.0.1 in /Users/mohammedeljazar/miniconda3/lib/python3.11/site-packages (from matplotlib==3.8.3) (1.2.1)\n",
      "Requirement already satisfied: cycler>=0.10 in /Users/mohammedeljazar/miniconda3/lib/python3.11/site-packages (from matplotlib==3.8.3) (0.12.1)\n",
      "Requirement already satisfied: fonttools>=4.22.0 in /Users/mohammedeljazar/miniconda3/lib/python3.11/site-packages (from matplotlib==3.8.3) (4.51.0)\n",
      "Requirement already satisfied: kiwisolver>=1.3.1 in /Users/mohammedeljazar/miniconda3/lib/python3.11/site-packages (from matplotlib==3.8.3) (1.4.5)\n",
      "Requirement already satisfied: numpy<2,>=1.21 in /Users/mohammedeljazar/miniconda3/lib/python3.11/site-packages (from matplotlib==3.8.3) (1.26.0)\n",
      "Requirement already satisfied: packaging>=20.0 in /Users/mohammedeljazar/miniconda3/lib/python3.11/site-packages (from matplotlib==3.8.3) (23.1)\n",
      "Requirement already satisfied: pillow>=8 in /Users/mohammedeljazar/miniconda3/lib/python3.11/site-packages (from matplotlib==3.8.3) (10.3.0)\n",
      "Requirement already satisfied: pyparsing>=2.3.1 in /Users/mohammedeljazar/miniconda3/lib/python3.11/site-packages (from matplotlib==3.8.3) (3.1.2)\n",
      "Requirement already satisfied: python-dateutil>=2.7 in /Users/mohammedeljazar/miniconda3/lib/python3.11/site-packages (from matplotlib==3.8.3) (2.9.0.post0)\n",
      "Requirement already satisfied: six>=1.5 in /Users/mohammedeljazar/miniconda3/lib/python3.11/site-packages (from python-dateutil>=2.7->matplotlib==3.8.3) (1.16.0)\n",
      "Downloading matplotlib-3.8.3-cp311-cp311-macosx_11_0_arm64.whl (7.5 MB)\n",
      "\u001b[2K   \u001b[90m━━━━━━━━━━━━━━━━━━━━━━━━━━━━━━━━━━━━━━━━\u001b[0m \u001b[32m7.5/7.5 MB\u001b[0m \u001b[31m3.3 MB/s\u001b[0m eta \u001b[36m0:00:00\u001b[0m00:01\u001b[0m00:01\u001b[0m\n",
      "\u001b[?25hInstalling collected packages: matplotlib\n",
      "  Attempting uninstall: matplotlib\n",
      "    Found existing installation: matplotlib 3.8.4\n",
      "    Uninstalling matplotlib-3.8.4:\n",
      "      Successfully uninstalled matplotlib-3.8.4\n",
      "Successfully installed matplotlib-3.8.3\n",
      "Collecting scikit-learn==1.4.1.post1\n",
      "  Downloading scikit_learn-1.4.1.post1-cp311-cp311-macosx_12_0_arm64.whl.metadata (11 kB)\n",
      "Requirement already satisfied: numpy<2.0,>=1.19.5 in /Users/mohammedeljazar/miniconda3/lib/python3.11/site-packages (from scikit-learn==1.4.1.post1) (1.26.0)\n",
      "Collecting scipy>=1.6.0 (from scikit-learn==1.4.1.post1)\n",
      "  Downloading scipy-1.13.0-cp311-cp311-macosx_12_0_arm64.whl.metadata (60 kB)\n",
      "\u001b[2K     \u001b[90m━━━━━━━━━━━━━━━━━━━━━━━━━━━━━━━━━━━━━━━\u001b[0m \u001b[32m60.6/60.6 kB\u001b[0m \u001b[31m535.5 kB/s\u001b[0m eta \u001b[36m0:00:00\u001b[0ma \u001b[36m0:00:01\u001b[0m\n",
      "\u001b[?25hCollecting joblib>=1.2.0 (from scikit-learn==1.4.1.post1)\n",
      "  Downloading joblib-1.4.0-py3-none-any.whl.metadata (5.4 kB)\n",
      "Collecting threadpoolctl>=2.0.0 (from scikit-learn==1.4.1.post1)\n",
      "  Downloading threadpoolctl-3.4.0-py3-none-any.whl.metadata (13 kB)\n",
      "Downloading scikit_learn-1.4.1.post1-cp311-cp311-macosx_12_0_arm64.whl (10.4 MB)\n",
      "\u001b[2K   \u001b[90m━━━━━━━━━━━━━━━━━━━━━━━━━━━━━━━━━━━━━━━━\u001b[0m \u001b[32m10.4/10.4 MB\u001b[0m \u001b[31m3.0 MB/s\u001b[0m eta \u001b[36m0:00:00\u001b[0m00:01\u001b[0m00:01\u001b[0m\n",
      "\u001b[?25hDownloading joblib-1.4.0-py3-none-any.whl (301 kB)\n",
      "\u001b[2K   \u001b[90m━━━━━━━━━━━━━━━━━━━━━━━━━━━━━━━━━━━━━━━━\u001b[0m \u001b[32m301.2/301.2 kB\u001b[0m \u001b[31m3.3 MB/s\u001b[0m eta \u001b[36m0:00:00\u001b[0ma \u001b[36m0:00:01\u001b[0m\n",
      "\u001b[?25hDownloading scipy-1.13.0-cp311-cp311-macosx_12_0_arm64.whl (30.3 MB)\n",
      "\u001b[2K   \u001b[90m━━━━━━━━━━━━━━━━━━━━━━━━━━━━━━━━━━━━━━━━\u001b[0m \u001b[32m30.3/30.3 MB\u001b[0m \u001b[31m1.4 MB/s\u001b[0m eta \u001b[36m0:00:00\u001b[0m00:01\u001b[0m00:01\u001b[0m0m\n",
      "\u001b[?25hDownloading threadpoolctl-3.4.0-py3-none-any.whl (17 kB)\n",
      "Installing collected packages: threadpoolctl, scipy, joblib, scikit-learn\n",
      "Successfully installed joblib-1.4.0 scikit-learn-1.4.1.post1 scipy-1.13.0 threadpoolctl-3.4.0\n"
     ]
    }
   ],
   "source": [
    "!pip install numpy==1.26.0\n",
    "!pip install pandas==2.2.1\n",
    "!pip install seaborn==0.13.2\n",
    "!pip install matplotlib==3.8.3\n",
    "!pip install scikit-learn==1.4.1.post1"
   ]
  },
  {
   "cell_type": "markdown",
   "id": "77e9aa50-17ae-4875-9a11-a88307f17a34",
   "metadata": {},
   "source": [
    "# **Import**"
   ]
  },
  {
   "cell_type": "code",
   "execution_count": 1,
   "id": "cf9da7e2-99e9-46ea-99d4-37a213b0d14f",
   "metadata": {},
   "outputs": [],
   "source": [
    "import numpy as np\n",
    "import pandas as pd\n",
    "import seaborn as sns\n",
    "import matplotlib.pyplot as plt"
   ]
  },
  {
   "cell_type": "markdown",
   "id": "9d148ce9-6b16-473c-9a34-16e0e91ed8d7",
   "metadata": {},
   "source": [
    "# **Used Functions**"
   ]
  },
  {
   "cell_type": "code",
   "execution_count": 2,
   "id": "453774a0-5d2b-43c6-8831-521cb99bdf7b",
   "metadata": {},
   "outputs": [],
   "source": [
    "#Write here your function with comments"
   ]
  },
  {
   "cell_type": "markdown",
   "id": "a696a3c3-dee2-4e5a-ab9b-65925e63a41f",
   "metadata": {},
   "source": [
    "# **Data**"
   ]
  },
  {
   "cell_type": "markdown",
   "id": "5c7300cc-3383-4646-9844-6129d2146919",
   "metadata": {},
   "source": [
    "### **Data Read**"
   ]
  },
  {
   "cell_type": "code",
   "execution_count": 3,
   "id": "71ec40a0-1577-4721-b775-5135919139c6",
   "metadata": {},
   "outputs": [],
   "source": [
    "data=pd.read_csv(\"ApartmentRentPrediction.csv\")"
   ]
  },
  {
   "cell_type": "markdown",
   "id": "6132c0f4-6dcf-4730-9dcd-c316018f0862",
   "metadata": {},
   "source": [
    "### **Data Header**"
   ]
  },
  {
   "cell_type": "code",
   "execution_count": 4,
   "id": "83b0cb62-0b9d-483c-9705-795b5f8b13c7",
   "metadata": {},
   "outputs": [
    {
     "data": {
      "text/html": [
       "<div>\n",
       "<style scoped>\n",
       "    .dataframe tbody tr th:only-of-type {\n",
       "        vertical-align: middle;\n",
       "    }\n",
       "\n",
       "    .dataframe tbody tr th {\n",
       "        vertical-align: top;\n",
       "    }\n",
       "\n",
       "    .dataframe thead th {\n",
       "        text-align: right;\n",
       "    }\n",
       "</style>\n",
       "<table border=\"1\" class=\"dataframe\">\n",
       "  <thead>\n",
       "    <tr style=\"text-align: right;\">\n",
       "      <th></th>\n",
       "      <th>id</th>\n",
       "      <th>category</th>\n",
       "      <th>title</th>\n",
       "      <th>body</th>\n",
       "      <th>amenities</th>\n",
       "      <th>bathrooms</th>\n",
       "      <th>bedrooms</th>\n",
       "      <th>currency</th>\n",
       "      <th>fee</th>\n",
       "      <th>has_photo</th>\n",
       "      <th>...</th>\n",
       "      <th>price_display</th>\n",
       "      <th>price_type</th>\n",
       "      <th>square_feet</th>\n",
       "      <th>address</th>\n",
       "      <th>cityname</th>\n",
       "      <th>state</th>\n",
       "      <th>latitude</th>\n",
       "      <th>longitude</th>\n",
       "      <th>source</th>\n",
       "      <th>time</th>\n",
       "    </tr>\n",
       "  </thead>\n",
       "  <tbody>\n",
       "    <tr>\n",
       "      <th>0</th>\n",
       "      <td>5508832632</td>\n",
       "      <td>housing/rent/apartment</td>\n",
       "      <td>Two BR - $1,194/mo - Apartment - come and see ...</td>\n",
       "      <td>Come experience. in Cary, NC offering recently...</td>\n",
       "      <td>Clubhouse,Fireplace,Gym,Patio/Deck,Playground,...</td>\n",
       "      <td>2.5</td>\n",
       "      <td>2.0</td>\n",
       "      <td>USD</td>\n",
       "      <td>No</td>\n",
       "      <td>Thumbnail</td>\n",
       "      <td>...</td>\n",
       "      <td>$1,194</td>\n",
       "      <td>Monthly</td>\n",
       "      <td>800</td>\n",
       "      <td>NaN</td>\n",
       "      <td>Cary</td>\n",
       "      <td>NC</td>\n",
       "      <td>35.7585</td>\n",
       "      <td>-78.7783</td>\n",
       "      <td>RentDigs.com</td>\n",
       "      <td>1568755960</td>\n",
       "    </tr>\n",
       "    <tr>\n",
       "      <th>1</th>\n",
       "      <td>5664576849</td>\n",
       "      <td>housing/rent/apartment</td>\n",
       "      <td>One BR 640 West Wilson Street</td>\n",
       "      <td>This unit is located at 640 West Wilson Street...</td>\n",
       "      <td>Cable or Satellite,Dishwasher,Elevator,Garbage...</td>\n",
       "      <td>1.0</td>\n",
       "      <td>1.0</td>\n",
       "      <td>USD</td>\n",
       "      <td>No</td>\n",
       "      <td>Thumbnail</td>\n",
       "      <td>...</td>\n",
       "      <td>$1,370</td>\n",
       "      <td>Monthly</td>\n",
       "      <td>795</td>\n",
       "      <td>640 West Wilson St</td>\n",
       "      <td>Madison</td>\n",
       "      <td>WI</td>\n",
       "      <td>43.0724</td>\n",
       "      <td>-89.4003</td>\n",
       "      <td>RentLingo</td>\n",
       "      <td>1577015508</td>\n",
       "    </tr>\n",
       "    <tr>\n",
       "      <th>2</th>\n",
       "      <td>5668619365</td>\n",
       "      <td>housing/rent/apartment</td>\n",
       "      <td>One BR 2777 Sw Archer Rd</td>\n",
       "      <td>This unit is located at 2777 Sw Archer Rd, Gai...</td>\n",
       "      <td>Basketball,Cable or Satellite,Dishwasher,Inter...</td>\n",
       "      <td>1.0</td>\n",
       "      <td>1.0</td>\n",
       "      <td>USD</td>\n",
       "      <td>No</td>\n",
       "      <td>Thumbnail</td>\n",
       "      <td>...</td>\n",
       "      <td>$1,009</td>\n",
       "      <td>Monthly</td>\n",
       "      <td>560</td>\n",
       "      <td>2777 SW Archer Road</td>\n",
       "      <td>Gainesville</td>\n",
       "      <td>FL</td>\n",
       "      <td>29.6533</td>\n",
       "      <td>-82.3656</td>\n",
       "      <td>RentLingo</td>\n",
       "      <td>1577358921</td>\n",
       "    </tr>\n",
       "    <tr>\n",
       "      <th>3</th>\n",
       "      <td>5668632604</td>\n",
       "      <td>housing/rent/apartment</td>\n",
       "      <td>One BR 534-542 Park Avenue</td>\n",
       "      <td>This unit is located at 534-542 Park Avenue, O...</td>\n",
       "      <td>NaN</td>\n",
       "      <td>1.0</td>\n",
       "      <td>1.0</td>\n",
       "      <td>USD</td>\n",
       "      <td>No</td>\n",
       "      <td>Thumbnail</td>\n",
       "      <td>...</td>\n",
       "      <td>$695</td>\n",
       "      <td>Monthly</td>\n",
       "      <td>600</td>\n",
       "      <td>534-542 Park Ave</td>\n",
       "      <td>Omaha</td>\n",
       "      <td>NE</td>\n",
       "      <td>41.2562</td>\n",
       "      <td>-96.0404</td>\n",
       "      <td>RentLingo</td>\n",
       "      <td>1577359849</td>\n",
       "    </tr>\n",
       "    <tr>\n",
       "      <th>4</th>\n",
       "      <td>5668637441</td>\n",
       "      <td>housing/rent/apartment</td>\n",
       "      <td>Three BR 2216 S Palm Grove Ave</td>\n",
       "      <td>This unit is located at 2216 S Palm Grove Ave,...</td>\n",
       "      <td>NaN</td>\n",
       "      <td>3.0</td>\n",
       "      <td>3.0</td>\n",
       "      <td>USD</td>\n",
       "      <td>No</td>\n",
       "      <td>Thumbnail</td>\n",
       "      <td>...</td>\n",
       "      <td>$3,695</td>\n",
       "      <td>Monthly</td>\n",
       "      <td>1600</td>\n",
       "      <td>2216 S Palm Grove Avenue</td>\n",
       "      <td>Los Angeles</td>\n",
       "      <td>CA</td>\n",
       "      <td>34.0372</td>\n",
       "      <td>-118.2972</td>\n",
       "      <td>RentLingo</td>\n",
       "      <td>1577360159</td>\n",
       "    </tr>\n",
       "  </tbody>\n",
       "</table>\n",
       "<p>5 rows × 22 columns</p>\n",
       "</div>"
      ],
      "text/plain": [
       "           id                category  \\\n",
       "0  5508832632  housing/rent/apartment   \n",
       "1  5664576849  housing/rent/apartment   \n",
       "2  5668619365  housing/rent/apartment   \n",
       "3  5668632604  housing/rent/apartment   \n",
       "4  5668637441  housing/rent/apartment   \n",
       "\n",
       "                                               title  \\\n",
       "0  Two BR - $1,194/mo - Apartment - come and see ...   \n",
       "1                      One BR 640 West Wilson Street   \n",
       "2                           One BR 2777 Sw Archer Rd   \n",
       "3                         One BR 534-542 Park Avenue   \n",
       "4                     Three BR 2216 S Palm Grove Ave   \n",
       "\n",
       "                                                body  \\\n",
       "0  Come experience. in Cary, NC offering recently...   \n",
       "1  This unit is located at 640 West Wilson Street...   \n",
       "2  This unit is located at 2777 Sw Archer Rd, Gai...   \n",
       "3  This unit is located at 534-542 Park Avenue, O...   \n",
       "4  This unit is located at 2216 S Palm Grove Ave,...   \n",
       "\n",
       "                                           amenities  bathrooms  bedrooms  \\\n",
       "0  Clubhouse,Fireplace,Gym,Patio/Deck,Playground,...        2.5       2.0   \n",
       "1  Cable or Satellite,Dishwasher,Elevator,Garbage...        1.0       1.0   \n",
       "2  Basketball,Cable or Satellite,Dishwasher,Inter...        1.0       1.0   \n",
       "3                                                NaN        1.0       1.0   \n",
       "4                                                NaN        3.0       3.0   \n",
       "\n",
       "  currency fee  has_photo  ... price_display  price_type square_feet  \\\n",
       "0      USD  No  Thumbnail  ...       $1,194      Monthly         800   \n",
       "1      USD  No  Thumbnail  ...       $1,370      Monthly         795   \n",
       "2      USD  No  Thumbnail  ...       $1,009      Monthly         560   \n",
       "3      USD  No  Thumbnail  ...         $695      Monthly         600   \n",
       "4      USD  No  Thumbnail  ...       $3,695      Monthly        1600   \n",
       "\n",
       "                    address     cityname state latitude longitude  \\\n",
       "0                       NaN         Cary    NC  35.7585  -78.7783   \n",
       "1        640 West Wilson St      Madison    WI  43.0724  -89.4003   \n",
       "2       2777 SW Archer Road  Gainesville    FL  29.6533  -82.3656   \n",
       "3          534-542 Park Ave        Omaha    NE  41.2562  -96.0404   \n",
       "4  2216 S Palm Grove Avenue  Los Angeles    CA  34.0372 -118.2972   \n",
       "\n",
       "         source        time  \n",
       "0  RentDigs.com  1568755960  \n",
       "1     RentLingo  1577015508  \n",
       "2     RentLingo  1577358921  \n",
       "3     RentLingo  1577359849  \n",
       "4     RentLingo  1577360159  \n",
       "\n",
       "[5 rows x 22 columns]"
      ]
     },
     "execution_count": 4,
     "metadata": {},
     "output_type": "execute_result"
    }
   ],
   "source": [
    "data.head(5)"
   ]
  },
  {
   "cell_type": "markdown",
   "id": "b1460ff1-35db-492e-95bf-00d4492091ac",
   "metadata": {},
   "source": [
    "### **Data Describe**"
   ]
  },
  {
   "cell_type": "code",
   "execution_count": 5,
   "id": "e172c18f-faba-4c47-b193-ace91eef191a",
   "metadata": {},
   "outputs": [
    {
     "data": {
      "text/html": [
       "<div>\n",
       "<style scoped>\n",
       "    .dataframe tbody tr th:only-of-type {\n",
       "        vertical-align: middle;\n",
       "    }\n",
       "\n",
       "    .dataframe tbody tr th {\n",
       "        vertical-align: top;\n",
       "    }\n",
       "\n",
       "    .dataframe thead th {\n",
       "        text-align: right;\n",
       "    }\n",
       "</style>\n",
       "<table border=\"1\" class=\"dataframe\">\n",
       "  <thead>\n",
       "    <tr style=\"text-align: right;\">\n",
       "      <th></th>\n",
       "      <th>id</th>\n",
       "      <th>bathrooms</th>\n",
       "      <th>bedrooms</th>\n",
       "      <th>price</th>\n",
       "      <th>square_feet</th>\n",
       "      <th>latitude</th>\n",
       "      <th>longitude</th>\n",
       "      <th>time</th>\n",
       "    </tr>\n",
       "  </thead>\n",
       "  <tbody>\n",
       "    <tr>\n",
       "      <th>count</th>\n",
       "      <td>9.000000e+03</td>\n",
       "      <td>8970.000000</td>\n",
       "      <td>8993.000000</td>\n",
       "      <td>9000.000000</td>\n",
       "      <td>9000.000000</td>\n",
       "      <td>8993.00000</td>\n",
       "      <td>8993.000000</td>\n",
       "      <td>9.000000e+03</td>\n",
       "    </tr>\n",
       "    <tr>\n",
       "      <th>mean</th>\n",
       "      <td>5.623668e+09</td>\n",
       "      <td>1.380769</td>\n",
       "      <td>1.744023</td>\n",
       "      <td>1487.286222</td>\n",
       "      <td>947.138667</td>\n",
       "      <td>37.67689</td>\n",
       "      <td>-94.778612</td>\n",
       "      <td>1.574906e+09</td>\n",
       "    </tr>\n",
       "    <tr>\n",
       "      <th>std</th>\n",
       "      <td>7.007402e+07</td>\n",
       "      <td>0.616171</td>\n",
       "      <td>0.942446</td>\n",
       "      <td>1088.561190</td>\n",
       "      <td>668.806214</td>\n",
       "      <td>5.51527</td>\n",
       "      <td>15.769232</td>\n",
       "      <td>3.755142e+06</td>\n",
       "    </tr>\n",
       "    <tr>\n",
       "      <th>min</th>\n",
       "      <td>5.508654e+09</td>\n",
       "      <td>1.000000</td>\n",
       "      <td>0.000000</td>\n",
       "      <td>200.000000</td>\n",
       "      <td>106.000000</td>\n",
       "      <td>21.31550</td>\n",
       "      <td>-158.022100</td>\n",
       "      <td>1.568744e+09</td>\n",
       "    </tr>\n",
       "    <tr>\n",
       "      <th>25%</th>\n",
       "      <td>5.509250e+09</td>\n",
       "      <td>1.000000</td>\n",
       "      <td>1.000000</td>\n",
       "      <td>950.000000</td>\n",
       "      <td>650.000000</td>\n",
       "      <td>33.66200</td>\n",
       "      <td>-101.858700</td>\n",
       "      <td>1.568781e+09</td>\n",
       "    </tr>\n",
       "    <tr>\n",
       "      <th>50%</th>\n",
       "      <td>5.668610e+09</td>\n",
       "      <td>1.000000</td>\n",
       "      <td>2.000000</td>\n",
       "      <td>1275.000000</td>\n",
       "      <td>802.000000</td>\n",
       "      <td>38.75550</td>\n",
       "      <td>-93.707700</td>\n",
       "      <td>1.577358e+09</td>\n",
       "    </tr>\n",
       "    <tr>\n",
       "      <th>75%</th>\n",
       "      <td>5.668626e+09</td>\n",
       "      <td>2.000000</td>\n",
       "      <td>2.000000</td>\n",
       "      <td>1695.000000</td>\n",
       "      <td>1100.000000</td>\n",
       "      <td>41.34980</td>\n",
       "      <td>-82.446800</td>\n",
       "      <td>1.577359e+09</td>\n",
       "    </tr>\n",
       "    <tr>\n",
       "      <th>max</th>\n",
       "      <td>5.668663e+09</td>\n",
       "      <td>8.500000</td>\n",
       "      <td>9.000000</td>\n",
       "      <td>52500.000000</td>\n",
       "      <td>40000.000000</td>\n",
       "      <td>61.59400</td>\n",
       "      <td>-70.191600</td>\n",
       "      <td>1.577362e+09</td>\n",
       "    </tr>\n",
       "  </tbody>\n",
       "</table>\n",
       "</div>"
      ],
      "text/plain": [
       "                 id    bathrooms     bedrooms         price   square_feet  \\\n",
       "count  9.000000e+03  8970.000000  8993.000000   9000.000000   9000.000000   \n",
       "mean   5.623668e+09     1.380769     1.744023   1487.286222    947.138667   \n",
       "std    7.007402e+07     0.616171     0.942446   1088.561190    668.806214   \n",
       "min    5.508654e+09     1.000000     0.000000    200.000000    106.000000   \n",
       "25%    5.509250e+09     1.000000     1.000000    950.000000    650.000000   \n",
       "50%    5.668610e+09     1.000000     2.000000   1275.000000    802.000000   \n",
       "75%    5.668626e+09     2.000000     2.000000   1695.000000   1100.000000   \n",
       "max    5.668663e+09     8.500000     9.000000  52500.000000  40000.000000   \n",
       "\n",
       "         latitude    longitude          time  \n",
       "count  8993.00000  8993.000000  9.000000e+03  \n",
       "mean     37.67689   -94.778612  1.574906e+09  \n",
       "std       5.51527    15.769232  3.755142e+06  \n",
       "min      21.31550  -158.022100  1.568744e+09  \n",
       "25%      33.66200  -101.858700  1.568781e+09  \n",
       "50%      38.75550   -93.707700  1.577358e+09  \n",
       "75%      41.34980   -82.446800  1.577359e+09  \n",
       "max      61.59400   -70.191600  1.577362e+09  "
      ]
     },
     "execution_count": 5,
     "metadata": {},
     "output_type": "execute_result"
    }
   ],
   "source": [
    "data.describe()"
   ]
  },
  {
   "cell_type": "markdown",
   "id": "eff726d9-8f94-43e6-81e2-55794dfb0c86",
   "metadata": {},
   "source": [
    "### **Data Info**"
   ]
  },
  {
   "cell_type": "code",
   "execution_count": 6,
   "id": "9bcaf865-cf14-43e2-9868-284550da7807",
   "metadata": {},
   "outputs": [
    {
     "name": "stdout",
     "output_type": "stream",
     "text": [
      "<class 'pandas.core.frame.DataFrame'>\n",
      "RangeIndex: 9000 entries, 0 to 8999\n",
      "Data columns (total 22 columns):\n",
      " #   Column         Non-Null Count  Dtype  \n",
      "---  ------         --------------  -----  \n",
      " 0   id             9000 non-null   int64  \n",
      " 1   category       9000 non-null   object \n",
      " 2   title          9000 non-null   object \n",
      " 3   body           9000 non-null   object \n",
      " 4   amenities      5815 non-null   object \n",
      " 5   bathrooms      8970 non-null   float64\n",
      " 6   bedrooms       8993 non-null   float64\n",
      " 7   currency       9000 non-null   object \n",
      " 8   fee            9000 non-null   object \n",
      " 9   has_photo      9000 non-null   object \n",
      " 10  pets_allowed   5249 non-null   object \n",
      " 11  price          9000 non-null   int64  \n",
      " 12  price_display  9000 non-null   object \n",
      " 13  price_type     9000 non-null   object \n",
      " 14  square_feet    9000 non-null   int64  \n",
      " 15  address        6029 non-null   object \n",
      " 16  cityname       8934 non-null   object \n",
      " 17  state          8934 non-null   object \n",
      " 18  latitude       8993 non-null   float64\n",
      " 19  longitude      8993 non-null   float64\n",
      " 20  source         9000 non-null   object \n",
      " 21  time           9000 non-null   int64  \n",
      "dtypes: float64(4), int64(4), object(14)\n",
      "memory usage: 1.5+ MB\n"
     ]
    }
   ],
   "source": [
    "data.info()"
   ]
  },
  {
   "cell_type": "markdown",
   "id": "dff2aea0-abe8-4440-991b-060f06747ca9",
   "metadata": {},
   "source": [
    "### **Data Nulls**"
   ]
  },
  {
   "cell_type": "code",
   "execution_count": 7,
   "id": "ece5875f-819c-4c95-b968-ff77fe789b0e",
   "metadata": {},
   "outputs": [
    {
     "data": {
      "text/plain": [
       "id                  0\n",
       "category            0\n",
       "title               0\n",
       "body                0\n",
       "amenities        3185\n",
       "bathrooms          30\n",
       "bedrooms            7\n",
       "currency            0\n",
       "fee                 0\n",
       "has_photo           0\n",
       "pets_allowed     3751\n",
       "price               0\n",
       "price_display       0\n",
       "price_type          0\n",
       "square_feet         0\n",
       "address          2971\n",
       "cityname           66\n",
       "state              66\n",
       "latitude            7\n",
       "longitude           7\n",
       "source              0\n",
       "time                0\n",
       "dtype: int64"
      ]
     },
     "execution_count": 7,
     "metadata": {},
     "output_type": "execute_result"
    }
   ],
   "source": [
    "data.isna().sum()"
   ]
  },
  {
   "cell_type": "markdown",
   "id": "4d03ab54-6f29-4333-bbbb-5134e34648a4",
   "metadata": {},
   "source": [
    "### **Wrong Values**"
   ]
  },
  {
   "cell_type": "code",
   "execution_count": 25,
   "id": "e56e6275-725e-4105-af87-b8a1fa703a02",
   "metadata": {},
   "outputs": [],
   "source": [
    "wrong_values = data.copy() "
   ]
  },
  {
   "cell_type": "code",
   "execution_count": 26,
   "id": "805b568b-46e7-4b31-8f0e-b26f526f117d",
   "metadata": {},
   "outputs": [
    {
     "data": {
      "text/plain": [
       "has_photo\n",
       "Thumbnail    8025\n",
       "Yes           816\n",
       "No            159\n",
       "Name: count, dtype: int64"
      ]
     },
     "execution_count": 26,
     "metadata": {},
     "output_type": "execute_result"
    }
   ],
   "source": [
    "wrong_values[\"has_photo\"].value_counts()"
   ]
  },
  {
   "cell_type": "code",
   "execution_count": 36,
   "id": "c98eb93c-00e1-4898-af57-8ba451bb1196",
   "metadata": {},
   "outputs": [],
   "source": [
    "wrong_values['bedrooms']=wrong_values['bedrooms'].apply(np.floor).astype(float)\n",
    "wrong_values['bathrooms'] = wrong_values['bathrooms'].apply(np.floor).astype(float)\n",
    "wrong_values.loc[wrong_values[\"has_photo\"] == \"Thumbnail\", \"has_photo\"] = \"Yes\""
   ]
  },
  {
   "cell_type": "markdown",
   "id": "f518be95-693b-46a6-87e2-651a25781552",
   "metadata": {},
   "source": [
    "### **Datatype Check**"
   ]
  },
  {
   "cell_type": "code",
   "execution_count": 37,
   "id": "25281d12-da13-49dc-8287-e7a204e61247",
   "metadata": {},
   "outputs": [],
   "source": [
    "#Convert Bathrooms to int\n",
    "#Convert Bedrooms to int\n",
    "#Convert Has_Photo to category\n",
    "#Convert State to int\n",
    "#Convert Source to int\n",
    "#Convert Time to int\n",
    "#Convert Source to int"
   ]
  },
  {
   "cell_type": "code",
   "execution_count": null,
   "id": "9f99806d-fc79-4bc4-9c29-2415c3c28035",
   "metadata": {},
   "outputs": [],
   "source": [
    "DataCheck = wrong_values.copy()"
   ]
  },
  {
   "cell_type": "code",
   "execution_count": null,
   "id": "f021c93a-08c6-4d37-a9a4-c8e5babccebc",
   "metadata": {},
   "outputs": [],
   "source": [
    "#DataCheck[\"bathrooms\"] = DataCheck[\"bathrooms\"].astype(\"int\")"
   ]
  },
  {
   "cell_type": "code",
   "execution_count": null,
   "id": "527b9903-3460-4a72-a519-4a015f20982a",
   "metadata": {},
   "outputs": [],
   "source": [
    "#DataCheck[\"bedrooms\"] = DataCheck[\"bedrooms\"].astype(\"int\")"
   ]
  },
  {
   "cell_type": "code",
   "execution_count": null,
   "id": "1260f9ae-b30f-4a81-a1b5-3fa7630e990a",
   "metadata": {},
   "outputs": [],
   "source": [
    "DataCheck[\"has_photo\"] = DataCheck[\"has_photo\"].astype(\"category\")"
   ]
  },
  {
   "cell_type": "code",
   "execution_count": null,
   "id": "61b48ba6-36d4-4436-ae97-64da62a30b84",
   "metadata": {},
   "outputs": [],
   "source": [
    "DataCheck[\"state\"] = DataCheck[\"state\"].astype(\"category\")"
   ]
  },
  {
   "cell_type": "code",
   "execution_count": null,
   "id": "157cdb00-f064-4228-a415-3b7651b9cf56",
   "metadata": {},
   "outputs": [],
   "source": [
    "DataCheck[\"source\"] = DataCheck[\"source\"].astype(\"category\")"
   ]
  },
  {
   "cell_type": "code",
   "execution_count": null,
   "id": "31a2fa31-0874-4a8a-a494-a307bbb89da4",
   "metadata": {},
   "outputs": [],
   "source": [
    "DataCheck[\"time\"] = pd.to_datetime(DataCheck[\"time\"])"
   ]
  },
  {
   "cell_type": "code",
   "execution_count": null,
   "id": "1c9a5898-3332-4c50-aff5-4dc310a1fb39",
   "metadata": {},
   "outputs": [],
   "source": [
    "DataCheck.info()"
   ]
  },
  {
   "cell_type": "markdown",
   "id": "8a10fe3a-78c7-4159-ae4e-de41046642ca",
   "metadata": {},
   "source": [
    "### **Needed Columns**"
   ]
  },
  {
   "cell_type": "code",
   "execution_count": null,
   "id": "588cfa94-b366-4500-97f5-10193fdb3401",
   "metadata": {},
   "outputs": [],
   "source": [
    "#Remove ID Column\n",
    "#Remove Category Column\n",
    "#Remove Title Column\n",
    "#Remove Body Column\n",
    "#Remove Currency Column\n",
    "#Remove Fee Column\n",
    "#Remove Price Display Column\n",
    "#Remove Price Type Column\n",
    "#Remove Time Column"
   ]
  },
  {
   "cell_type": "code",
   "execution_count": null,
   "id": "ac737a33-547d-49dd-86ca-b69bc4e84711",
   "metadata": {},
   "outputs": [],
   "source": [
    "#Remove ID Column\n",
    "#Not useful in data\n",
    "DataCheck = DataCheck.drop('id', axis=1)"
   ]
  },
  {
   "cell_type": "code",
   "execution_count": null,
   "id": "e7ab95d8-72dc-405a-aca6-c5ba8e7e87f7",
   "metadata": {},
   "outputs": [],
   "source": [
    "#Remove Category Column\n",
    "#Not useful in data due to 8997 \"housing/rent/apartment\" repetation\n",
    "print(DataCheck['category'].value_counts())\n",
    "DataCheck = DataCheck.drop('category', axis=1)"
   ]
  },
  {
   "cell_type": "code",
   "execution_count": null,
   "id": "08ea2082-b136-4fd7-bc30-99fb1817125c",
   "metadata": {},
   "outputs": [],
   "source": [
    "#Remove Title Column\n",
    "#Not useful in data\n",
    "DataCheck = DataCheck.drop('title', axis=1)"
   ]
  },
  {
   "cell_type": "code",
   "execution_count": null,
   "id": "3b17cdea-6cfd-458b-a520-f57717179190",
   "metadata": {},
   "outputs": [],
   "source": [
    "#Remove Body Column\n",
    "#Not useful in data\n",
    "#DataCheck = DataCheck.drop('body', axis=1)"
   ]
  },
  {
   "cell_type": "code",
   "execution_count": null,
   "id": "3bdc2a92-045b-413c-882d-788090353a96",
   "metadata": {},
   "outputs": [],
   "source": [
    "#Remove Currency Column\n",
    "#Not useful in data due to no unique values\n",
    "print(DataCheck['currency'].value_counts())\n",
    "DataCheck = DataCheck.drop('currency', axis=1)"
   ]
  },
  {
   "cell_type": "code",
   "execution_count": null,
   "id": "71610803-17bb-4822-bcb0-08cb2bef87c7",
   "metadata": {},
   "outputs": [],
   "source": [
    "#Remove Fee Column\n",
    "#Not useful in data due to no unique values\n",
    "print(DataCheck['fee'].value_counts())\n",
    "DataCheck = DataCheck.drop('fee', axis=1)"
   ]
  },
  {
   "cell_type": "code",
   "execution_count": null,
   "id": "87c7a4b4-6a0b-4157-aa07-81f7f8c212ff",
   "metadata": {},
   "outputs": [],
   "source": [
    "#Remove Price Display Column\n",
    "#Not useful in data due to repition of price column\n",
    "DataCheck['price_display'] = pd.to_numeric(DataCheck['price_display'].str.replace('$', '').str.replace(',', '').str.replace('Weekly', '').str.replace('Monthly|', ''))\n",
    "comparison = DataCheck['price_display'] == DataCheck['price']\n",
    "print(comparison.value_counts())\n",
    "DataCheck = DataCheck.drop('price_display', axis=1)"
   ]
  },
  {
   "cell_type": "code",
   "execution_count": null,
   "id": "b8292c63-0990-4b26-863a-e35326187c1a",
   "metadata": {},
   "outputs": [],
   "source": [
    "#Remove Price Type Column\n",
    "#Not useful in data due to 8998 \"Monthly\" repetation\n",
    "print(DataCheck['price_type'].value_counts())\n",
    "DataCheck = DataCheck.drop('price_type', axis=1)"
   ]
  },
  {
   "cell_type": "code",
   "execution_count": null,
   "id": "4f238daa-ffb0-4ee7-99e6-61a4918a76dc",
   "metadata": {},
   "outputs": [],
   "source": [
    "#Remove Time Column\n",
    "#Not useful in data due to 9000 \"1970-01-01\" date repetation\n",
    "DataCheck = DataCheck.drop('time', axis=1)"
   ]
  },
  {
   "cell_type": "code",
   "execution_count": null,
   "id": "fd60e102-d8b1-469d-84a1-991ddb1226cc",
   "metadata": {},
   "outputs": [],
   "source": [
    "#Check Data After Uneeded Columns Removal\n",
    "DataCheck.info()"
   ]
  }
 ],
 "metadata": {
  "kernelspec": {
   "display_name": "Python 3 (ipykernel)",
   "language": "python",
   "name": "python3"
  },
  "language_info": {
   "codemirror_mode": {
    "name": "ipython",
    "version": 3
   },
   "file_extension": ".py",
   "mimetype": "text/x-python",
   "name": "python",
   "nbconvert_exporter": "python",
   "pygments_lexer": "ipython3",
   "version": "3.11.7"
  }
 },
 "nbformat": 4,
 "nbformat_minor": 5
}
